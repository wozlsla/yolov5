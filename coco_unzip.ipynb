{
 "cells": [
  {
   "cell_type": "code",
   "execution_count": null,
   "metadata": {
    "ExecuteTime": {
     "end_time": "2023-01-12T01:28:26.396418Z",
     "start_time": "2023-01-12T01:28:26.175493Z"
    }
   },
   "outputs": [],
   "source": [
    "!pwd"
   ]
  },
  {
   "cell_type": "code",
   "execution_count": 8,
   "metadata": {
    "ExecuteTime": {
     "end_time": "2023-01-12T10:45:27.607982Z",
     "start_time": "2023-01-12T01:28:33.532432Z"
    }
   },
   "outputs": [
    {
     "name": "stdout",
     "output_type": "stream",
     "text": [
      "--2023-01-12 10:28:33--  http://images.cocodataset.org/zips/train2017.zip\n",
      "Resolving images.cocodataset.org (images.cocodataset.org)... 52.217.235.89, 52.216.41.169, 52.216.153.36, ...\n",
      "Connecting to images.cocodataset.org (images.cocodataset.org)|52.217.235.89|:80... connected.\n",
      "HTTP request sent, awaiting response... 200 OK\n",
      "Length: 19336861798 (18G) [application/zip]\n",
      "Saving to: ‘train2017.zip’\n",
      "\n",
      "100%[===================================>] 19,336,861,798 6.57MB/s   in 9h 16m \n",
      "\n",
      "2023-01-12 19:45:27 (565 KB/s) - ‘train2017.zip’ saved [19336861798/19336861798]\n",
      "\n"
     ]
    }
   ],
   "source": [
    "!wget -c http://images.cocodataset.org/zips/train2017.zip"
   ]
  },
  {
   "cell_type": "code",
   "execution_count": null,
   "metadata": {},
   "outputs": [],
   "source": []
  },
  {
   "cell_type": "code",
   "execution_count": 2,
   "metadata": {
    "ExecuteTime": {
     "end_time": "2023-01-12T01:01:34.076803Z",
     "start_time": "2023-01-12T00:48:29.541925Z"
    }
   },
   "outputs": [
    {
     "name": "stdout",
     "output_type": "stream",
     "text": [
      "--2023-01-12 09:48:29--  http://images.cocodataset.org/zips/val2017.zip\n",
      "Resolving images.cocodataset.org (images.cocodataset.org)... 52.216.219.17, 52.217.38.244, 52.217.45.76, ...\n",
      "Connecting to images.cocodataset.org (images.cocodataset.org)|52.216.219.17|:80... connected.\n",
      "HTTP request sent, awaiting response... 200 OK\n",
      "Length: 815585330 (778M) [application/zip]\n",
      "Saving to: ‘val2017.zip’\n",
      "\n",
      "100%[======================================>] 815,585,330  174KB/s   in 13m 4s \n",
      "\n",
      "2023-01-12 10:01:33 (1016 KB/s) - ‘val2017.zip’ saved [815585330/815585330]\n",
      "\n"
     ]
    }
   ],
   "source": [
    "!wget -c http://images.cocodataset.org/zips/val2017.zip"
   ]
  },
  {
   "cell_type": "code",
   "execution_count": null,
   "metadata": {
    "ExecuteTime": {
     "end_time": "2023-01-12T01:02:11.886967Z",
     "start_time": "2023-01-12T01:02:11.217583Z"
    }
   },
   "outputs": [],
   "source": [
    "!mkdir coco\n",
    "%cd coco\n",
    "!mkdir val2017"
   ]
  },
  {
   "cell_type": "code",
   "execution_count": null,
   "metadata": {
    "ExecuteTime": {
     "end_time": "2023-01-12T01:04:06.949811Z",
     "start_time": "2023-01-12T01:04:06.709785Z"
    }
   },
   "outputs": [],
   "source": [
    "!unzip /home/jm/val2017.zip -d zip /home/jm/coco/val2017/"
   ]
  }
 ],
 "metadata": {
  "kernelspec": {
   "display_name": "Python 3 (ipykernel)",
   "language": "python",
   "name": "python3"
  },
  "language_info": {
   "codemirror_mode": {
    "name": "ipython",
    "version": 3
   },
   "file_extension": ".py",
   "mimetype": "text/x-python",
   "name": "python",
   "nbconvert_exporter": "python",
   "pygments_lexer": "ipython3",
   "version": "3.8.12"
  },
  "toc": {
   "base_numbering": 1,
   "nav_menu": {},
   "number_sections": true,
   "sideBar": true,
   "skip_h1_title": false,
   "title_cell": "Table of Contents",
   "title_sidebar": "Contents",
   "toc_cell": false,
   "toc_position": {},
   "toc_section_display": true,
   "toc_window_display": false
  }
 },
 "nbformat": 4,
 "nbformat_minor": 4
}
